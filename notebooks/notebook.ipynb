{
 "cells": [
  {
   "cell_type": "code",
   "execution_count": 62,
   "metadata": {},
   "outputs": [],
   "source": [
    "import numpy as np\n",
    "import pandas as pd\n",
    "import random\n",
    "from sklearn.model_selection import train_test_split\n",
    "import torch\n",
    "import torch.nn as nn\n",
    "import os\n",
    "import matplotlib.pyplot as plt\n",
    "%matplotlib inline"
   ]
  },
  {
   "cell_type": "code",
   "execution_count": 101,
   "metadata": {},
   "outputs": [],
   "source": [
    "def norm(data):\n",
    "        if(data.all() == 0):\n",
    "              return data\n",
    "        min = np.min(data)\n",
    "        max = np.max(data)\n",
    "        range = max-min\n",
    "        if(range == 0):\n",
    "            return np.zeros_like(data)\n",
    "        data_norm = (data - min)/range\n",
    "        return data_norm"
   ]
  },
  {
   "cell_type": "code",
   "execution_count": 111,
   "metadata": {},
   "outputs": [],
   "source": [
    "def load_data(normalize_type):\n",
    "    data = pd.read_csv('https://github.com/ybifoundation/Dataset/raw/main/Salary%20Data.csv')\n",
    "    train, test = train_test_split(data, train_size=0.75, random_state=10)\n",
    "\n",
    "    x_train = np.array(train['Experience Years'])\n",
    "    y_train = np.array(train['Salary'])\n",
    "    x_test = np.array(test['Experience Years'])\n",
    "    y_test = np.array(test['Salary'])\n",
    "\n",
    "    x_train = np.reshape(x_train, (x_train.shape[0], 1))\n",
    "    y_train = np.reshape(y_train, (y_train.shape[0], 1))\n",
    "    x_test = np.reshape(x_test, (x_test.shape[0], 1))\n",
    "    y_test = np.reshape(y_test, (y_test.shape[0], 1))\n",
    "\n",
    "    if(normalize_type == 'min_max'):\n",
    "        x_train = norm(x_train)\n",
    "        y_train = norm(y_train)\n",
    "        x_test = norm(x_test)\n",
    "        y_test = norm(y_test)\n",
    "    elif(normalize_type == 'scale'):\n",
    "        y_train = y_train/10000\n",
    "        y_test = y_test/10000\n",
    "        \n",
    "    training_data = {'x_train':x_train, 'y_train':y_train}\n",
    "    testing_data = {'x_test':x_test, 'y_test':y_test}\n",
    "    return training_data, testing_data\n"
   ]
  },
  {
   "cell_type": "code",
   "execution_count": 16,
   "metadata": {},
   "outputs": [],
   "source": [
    "def initialize_parameters():\n",
    "    w = np.random.rand(1,1) * 0.1\n",
    "    b = np.zeros((1,1))\n",
    "    parameters = {'w':w, 'b':b}\n",
    "    return parameters"
   ]
  },
  {
   "cell_type": "code",
   "execution_count": 17,
   "metadata": {},
   "outputs": [],
   "source": [
    "def forward_propagation(x, parameters):\n",
    "    w, b = parameters['w'], parameters['b']\n",
    "    yhat = np.matmul(x, w) + b\n",
    "    yhat = np.reshape(yhat, (yhat.shape[0], 1))\n",
    "    return yhat"
   ]
  },
  {
   "cell_type": "code",
   "execution_count": 18,
   "metadata": {},
   "outputs": [],
   "source": [
    "def calculate_cost(yhat, y):\n",
    "    m = y.shape[0]\n",
    "    error = yhat - y\n",
    "    squared_error = error ** 2\n",
    "    cost = np.sum(squared_error, 0)/m\n",
    "    intermediate_values = {'error':error}\n",
    "    return cost, intermediate_values"
   ]
  },
  {
   "cell_type": "code",
   "execution_count": 19,
   "metadata": {},
   "outputs": [],
   "source": [
    "def back_propagation(x, intermediate_values):\n",
    "    m = x.shape[0]\n",
    "    error = intermediate_values['error']\n",
    "    dw = x * (2 * error) * (1/m)\n",
    "    dw = np.sum(dw, axis=0, keepdims=True)\n",
    "    db = (2 * error) * (1/m)\n",
    "    db = np.sum(db, axis=0, keepdims=True)\n",
    "    grads = {'dw':dw, 'db':db}\n",
    "    return grads"
   ]
  },
  {
   "cell_type": "code",
   "execution_count": 20,
   "metadata": {},
   "outputs": [],
   "source": [
    "def update_parameters(parameters, grads, learning_rate=0.1):\n",
    "    w, b = parameters['w'], parameters['b']\n",
    "    dw, db = grads['dw'], grads['db']\n",
    "    w = w - learning_rate * dw\n",
    "    b = b - learning_rate * db\n",
    "    parameters = {'w':w, 'b':b}\n",
    "    return parameters"
   ]
  },
  {
   "cell_type": "code",
   "execution_count": 25,
   "metadata": {},
   "outputs": [],
   "source": [
    "def save_parameters(model, parameters):\n",
    "    path = '../src/models/' + model\n",
    "    for p in parameters:\n",
    "        parameter_path = path + '/' + p + '.npy'\n",
    "        np.save(parameter_path, parameters[p])"
   ]
  },
  {
   "cell_type": "code",
   "execution_count": 132,
   "metadata": {},
   "outputs": [],
   "source": [
    "def load_parameters(model,logging=False):\n",
    "    path = '../src/models/' + model\n",
    "    parameters = initialize_parameters()\n",
    "    if not os.path.exists(path):\n",
    "        os.makedirs(path)\n",
    "        if(logging):\n",
    "            print(f'created model {model} with default parameter values')\n",
    "        return parameters\n",
    "    for p in parameters:\n",
    "        parameter_path = path + '/' + p + '.npy'\n",
    "        try:\n",
    "            parameters[p] = np.load(parameter_path)\n",
    "            if(logging):\n",
    "                print(f'loaded parameter {p} with value {parameters[p]}')\n",
    "        except FileNotFoundError:\n",
    "            if(logging):\n",
    "                print(f'could not find parameter {p}, continuing with default value {parameters[p]}')\n",
    "    return parameters"
   ]
  },
  {
   "cell_type": "code",
   "execution_count": 133,
   "metadata": {},
   "outputs": [],
   "source": [
    "def train_model(model, epochs, learning_rate, training_data, logging=False):\n",
    "    x_train = training_data['x_train']\n",
    "    y_train = training_data['y_train']\n",
    "    parameters = load_parameters(model)\n",
    "    for epoch in range(epochs):\n",
    "        yhat = forward_propagation(x_train, parameters)\n",
    "        cost, intermediate_values = calculate_cost(yhat, y_train)\n",
    "        if(logging):\n",
    "            print(f'epoch: {epoch}    cost: {cost}')\n",
    "        grads = back_propagation(x_train, intermediate_values)\n",
    "        parameters = update_parameters(parameters, grads, learning_rate)\n",
    "    save_parameters(model, parameters)\n",
    "    if(logging):\n",
    "        print(f'parameters saved: {parameters}    final cost: {cost}')"
   ]
  },
  {
   "cell_type": "code",
   "execution_count": 139,
   "metadata": {},
   "outputs": [],
   "source": [
    "def predict(model, x, logging=False):\n",
    "    parameters = load_parameters(model)\n",
    "    yhat = forward_propagation(x, parameters)\n",
    "    if(logging):\n",
    "        print(f'{model} prediction: {yhat}')\n",
    "    return yhat"
   ]
  },
  {
   "cell_type": "code",
   "execution_count": 120,
   "metadata": {},
   "outputs": [],
   "source": [
    "training_data, testing_data = load_data(normalize_type='scale')"
   ]
  },
  {
   "cell_type": "code",
   "execution_count": null,
   "metadata": {},
   "outputs": [],
   "source": [
    "model = 'trained_model2'\n",
    "epochs = 5000\n",
    "learning_rate = 0.01\n",
    "logging = True\n",
    "\n",
    "train_model(model, epochs, learning_rate, training_data, logging)"
   ]
  },
  {
   "cell_type": "code",
   "execution_count": 140,
   "metadata": {},
   "outputs": [
    {
     "name": "stdout",
     "output_type": "stream",
     "text": [
      "trained_model2 prediction: [[9.88566824]]\n"
     ]
    },
    {
     "data": {
      "text/plain": [
       "array([[9.88566824]])"
      ]
     },
     "execution_count": 140,
     "metadata": {},
     "output_type": "execute_result"
    }
   ],
   "source": [
    "model = 'trained_model2'\n",
    "logging = True\n",
    "x = np.array([[7.7]])\n",
    "predict(model, x, logging)"
   ]
  },
  {
   "cell_type": "code",
   "execution_count": 130,
   "metadata": {},
   "outputs": [
    {
     "data": {
      "image/png": "[encoded data removed]",
      "text/plain": [
       "<Figure size 640x480 with 1 Axes>"
      ]
     },
     "metadata": {},
     "output_type": "display_data"
    }
   ],
   "source": [
    "model = 'trained_model2'\n",
    "x = training_data['x_train']\n",
    "y = training_data['y_train']\n",
    "\n",
    "plt.scatter(x, y)\n",
    "w = np.load('../src/models/' + model + '/w.npy')\n",
    "b = np.load('../src/models/' + model + '/b.npy')\n",
    "line = w * x + b\n",
    "plt.plot(x, line, color='red', linestyle='-', linewidth=2, label='wx + b')\n",
    "plt.title('Years of Experience vs. Salary')\n",
    "plt.xlabel('Years of Experience')\n",
    "plt.ylabel('Salary in Ten Thousands Dollars')\n",
    "plt.show()"
   ]
  },
  {
   "cell_type": "code",
   "execution_count": 150,
   "metadata": {},
   "outputs": [
    {
     "name": "stdout",
     "output_type": "stream",
     "text": [
      "trained_model2 prediction: [[4.36694266]]\n"
     ]
    },
    {
     "data": {
      "image/png": "[encoded data removed]",
      "text/plain": [
       "<Figure size 640x480 with 1 Axes>"
      ]
     },
     "metadata": {},
     "output_type": "display_data"
    }
   ],
   "source": [
    "model = 'trained_model2'\n",
    "x = training_data['x_train']\n",
    "y = training_data['y_train']\n",
    "\n",
    "plt.scatter(x, y)\n",
    "w = np.load('../src/models/' + model + '/w.npy')\n",
    "b = np.load('../src/models/' + model + '/b.npy')\n",
    "line = w * x + b\n",
    "plt.plot(x, line, color='red', linestyle='-', linewidth=2, label='wx + b')\n",
    "\n",
    "x_predict = np.array([[2]])\n",
    "y_predict = predict(model, x_predict, logging=True)\n",
    "plt.scatter(x_predict, y_predict, color='purple')\n",
    "\n",
    "plt.title('Years of Experience vs. Salary')\n",
    "plt.xlabel('Years of Experience')\n",
    "plt.ylabel('Salary in Ten Thousands Dollars')\n",
    "plt.show()"
   ]
  },
  {
   "cell_type": "code",
   "execution_count": null,
   "metadata": {},
   "outputs": [],
   "source": []
  }
 ],
 "metadata": {
  "kernelspec": {
   "display_name": "project1env",
   "language": "python",
   "name": "python3"
  },
  "language_info": {
   "codemirror_mode": {
    "name": "ipython",
    "version": 3
   },
   "file_extension": ".py",
   "mimetype": "text/x-python",
   "name": "python",
   "nbconvert_exporter": "python",
   "pygments_lexer": "ipython3",
   "version": "3.12.3"
  }
 },
 "nbformat": 4,
 "nbformat_minor": 2
}
