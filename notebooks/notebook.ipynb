{
 "cells": [
  {
   "cell_type": "code",
   "execution_count": 27,
   "metadata": {},
   "outputs": [],
   "source": [
    "import numpy as np\n",
    "import pandas as pd\n",
    "import random\n",
    "from sklearn.model_selection import train_test_split\n",
    "import torch\n",
    "import torch.nn as nn"
   ]
  },
  {
   "cell_type": "code",
   "execution_count": 2,
   "metadata": {},
   "outputs": [],
   "source": [
    "def normalize(data):\n",
    "        if(data.all() == 0):\n",
    "              return data\n",
    "        min = np.min(data)\n",
    "        max = np.max(data)\n",
    "        range = max-min\n",
    "        if(range == 0):\n",
    "            return np.zeros_like(data)\n",
    "        data_norm = (data - min)/range\n",
    "        return data_norm"
   ]
  },
  {
   "cell_type": "code",
   "execution_count": 3,
   "metadata": {},
   "outputs": [],
   "source": [
    "data = pd.read_csv('https://github.com/ybifoundation/Dataset/raw/main/Salary%20Data.csv')"
   ]
  },
  {
   "cell_type": "code",
   "execution_count": 4,
   "metadata": {},
   "outputs": [],
   "source": [
    "train, test = train_test_split(data, train_size=0.75, random_state=10)"
   ]
  },
  {
   "cell_type": "code",
   "execution_count": 5,
   "metadata": {},
   "outputs": [],
   "source": [
    "x_train_raw = np.array(train['Experience Years'])\n",
    "y_train_raw = np.array(train['Salary'])\n",
    "x_test_raw = np.array(test['Experience Years'])\n",
    "y_test_raw = np.array(test['Salary'])\n",
    "\n",
    "x_train_raw = np.reshape(x_train_raw, (x_train_raw.shape[0], 1))\n",
    "y_train_raw = np.reshape(y_train_raw, (y_train_raw.shape[0], 1))\n",
    "x_test_raw = np.reshape(x_test_raw, (x_test_raw.shape[0], 1))\n",
    "y_test_raw = np.reshape(y_test_raw, (y_test_raw.shape[0], 1))"
   ]
  },
  {
   "cell_type": "code",
   "execution_count": 6,
   "metadata": {},
   "outputs": [],
   "source": [
    "x_train = normalize(x_train_raw)\n",
    "y_train = normalize(y_train_raw)\n",
    "x_test = normalize(x_test_raw)\n",
    "y_test = normalize(y_test_raw)"
   ]
  },
  {
   "cell_type": "code",
   "execution_count": 7,
   "metadata": {},
   "outputs": [],
   "source": [
    "def initialize_parameters():\n",
    "    w = np.random.rand(1,1) * 0.1\n",
    "    b = np.zeros((1,1))\n",
    "    parameters = {'w':w, 'b':b}\n",
    "    return parameters"
   ]
  },
  {
   "cell_type": "code",
   "execution_count": 8,
   "metadata": {},
   "outputs": [],
   "source": [
    "def forward_propagation(x, parameters):\n",
    "    w, b = parameters['w'], parameters['b']\n",
    "    yhat = np.matmul(x, w) + b\n",
    "    return yhat"
   ]
  },
  {
   "cell_type": "code",
   "execution_count": 39,
   "metadata": {},
   "outputs": [],
   "source": [
    "def calculate_cost(yhat, y):\n",
    "    m = y.shape[0]\n",
    "    error = (yhat - y) ** 2\n",
    "    cost = np.sum(error, 0)/m\n",
    "    return cost"
   ]
  },
  {
   "cell_type": "code",
   "execution_count": 18,
   "metadata": {},
   "outputs": [],
   "source": [
    "parameters = initialize_parameters()"
   ]
  },
  {
   "cell_type": "code",
   "execution_count": 19,
   "metadata": {},
   "outputs": [],
   "source": [
    "yhat = forward_propagation(x_train, parameters)"
   ]
  },
  {
   "cell_type": "code",
   "execution_count": 20,
   "metadata": {},
   "outputs": [],
   "source": [
    "cost = calculate_cost(yhat, y_train)"
   ]
  },
  {
   "cell_type": "code",
   "execution_count": 29,
   "metadata": {},
   "outputs": [],
   "source": [
    "loss = torch.nn.MSELoss()"
   ]
  },
  {
   "cell_type": "code",
   "execution_count": 30,
   "metadata": {},
   "outputs": [],
   "source": [
    "a = np.random.rand(30,1)"
   ]
  },
  {
   "cell_type": "code",
   "execution_count": 32,
   "metadata": {},
   "outputs": [],
   "source": [
    "b = np.random.rand(30,1)"
   ]
  },
  {
   "cell_type": "code",
   "execution_count": 35,
   "metadata": {},
   "outputs": [],
   "source": [
    "cost = loss(torch.tensor(a), torch.tensor(b))"
   ]
  },
  {
   "cell_type": "code",
   "execution_count": 36,
   "metadata": {},
   "outputs": [
    {
     "data": {
      "text/plain": [
       "MSELoss()"
      ]
     },
     "execution_count": 36,
     "metadata": {},
     "output_type": "execute_result"
    }
   ],
   "source": [
    "loss"
   ]
  },
  {
   "cell_type": "code",
   "execution_count": 37,
   "metadata": {},
   "outputs": [
    {
     "data": {
      "text/plain": [
       "tensor(0.1773, dtype=torch.float64)"
      ]
     },
     "execution_count": 37,
     "metadata": {},
     "output_type": "execute_result"
    }
   ],
   "source": [
    "cost"
   ]
  },
  {
   "cell_type": "code",
   "execution_count": 40,
   "metadata": {},
   "outputs": [
    {
     "data": {
      "text/plain": [
       "array([0.17728407])"
      ]
     },
     "execution_count": 40,
     "metadata": {},
     "output_type": "execute_result"
    }
   ],
   "source": [
    "calculate_cost(a,b)"
   ]
  },
  {
   "cell_type": "code",
   "execution_count": 41,
   "metadata": {},
   "outputs": [
    {
     "data": {
      "text/plain": [
       "array(0.17728407)"
      ]
     },
     "execution_count": 41,
     "metadata": {},
     "output_type": "execute_result"
    }
   ],
   "source": [
    "cost.detach().numpy()"
   ]
  },
  {
   "cell_type": "code",
   "execution_count": 44,
   "metadata": {},
   "outputs": [
    {
     "data": {
      "text/plain": [
       "array([[0.00875645],\n",
       "       [0.01114457],\n",
       "       [0.00318416],\n",
       "       [0.03024954],\n",
       "       [0.02865746],\n",
       "       [0.06049908],\n",
       "       [0.00079604],\n",
       "       [0.0254733 ],\n",
       "       [0.01910497],\n",
       "       [0.06766344],\n",
       "       [0.0334337 ],\n",
       "       [0.02308517],\n",
       "       [0.02706538],\n",
       "       [0.00716436],\n",
       "       [0.03184162],\n",
       "       [0.05651888],\n",
       "       [0.01671685],\n",
       "       [0.07323573],\n",
       "       [0.07482781],\n",
       "       [0.01512477],\n",
       "       [0.03900598],\n",
       "       [0.02388122],\n",
       "       [0.058907  ],\n",
       "       [0.04537431],\n",
       "       [0.03820994],\n",
       "       [0.04298619],\n",
       "       [0.        ],\n",
       "       [0.02308517],\n",
       "       [0.0668674 ],\n",
       "       [0.01671685]])"
      ]
     },
     "execution_count": 44,
     "metadata": {},
     "output_type": "execute_result"
    }
   ],
   "source": [
    "yhat"
   ]
  },
  {
   "cell_type": "code",
   "execution_count": null,
   "metadata": {},
   "outputs": [],
   "source": []
  }
 ],
 "metadata": {
  "kernelspec": {
   "display_name": "project1env",
   "language": "python",
   "name": "python3"
  },
  "language_info": {
   "codemirror_mode": {
    "name": "ipython",
    "version": 3
   },
   "file_extension": ".py",
   "mimetype": "text/x-python",
   "name": "python",
   "nbconvert_exporter": "python",
   "pygments_lexer": "ipython3",
   "version": "3.12.3"
  }
 },
 "nbformat": 4,
 "nbformat_minor": 2
}
