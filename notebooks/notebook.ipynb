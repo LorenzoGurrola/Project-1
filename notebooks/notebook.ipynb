{
 "cells": [
  {
   "cell_type": "code",
   "execution_count": 4,
   "metadata": {},
   "outputs": [],
   "source": [
    "import numpy as np\n",
    "import pandas as pd\n",
    "import random\n",
    "from sklearn.model_selection import train_test_split"
   ]
  },
  {
   "cell_type": "code",
   "execution_count": 5,
   "metadata": {},
   "outputs": [],
   "source": [
    "def normalize(data):\n",
    "        if(data.all() == 0):\n",
    "              return data\n",
    "        min = np.min(data)\n",
    "        max = np.max(data)\n",
    "        range = max-min\n",
    "        if(range == 0):\n",
    "            return np.zeros_like(data)\n",
    "        data_norm = (data - min)/range\n",
    "        return data_norm"
   ]
  },
  {
   "cell_type": "code",
   "execution_count": 6,
   "metadata": {},
   "outputs": [],
   "source": [
    "data = pd.read_csv('https://github.com/ybifoundation/Dataset/raw/main/Salary%20Data.csv')"
   ]
  },
  {
   "cell_type": "code",
   "execution_count": 7,
   "metadata": {},
   "outputs": [],
   "source": [
    "train, test = train_test_split(data, train_size=0.75, random_state=10)"
   ]
  },
  {
   "cell_type": "code",
   "execution_count": 8,
   "metadata": {},
   "outputs": [],
   "source": [
    "x_train_raw = np.array(train['Experience Years'])\n",
    "y_train_raw = np.array(train['Salary'])\n",
    "x_test_raw = np.array(test['Experience Years'])\n",
    "y_test_raw = np.array(test['Salary'])\n",
    "\n",
    "x_train_raw = np.reshape(x_train_raw, (x_train_raw.shape[0], 1))\n",
    "y_train_raw = np.reshape(y_train_raw, (y_train_raw.shape[0], 1))\n",
    "x_test_raw = np.reshape(x_test_raw, (x_test_raw.shape[0], 1))\n",
    "y_test_raw = np.reshape(y_test_raw, (y_test_raw.shape[0], 1))"
   ]
  },
  {
   "cell_type": "code",
   "execution_count": 9,
   "metadata": {},
   "outputs": [],
   "source": [
    "x_train = normalize(x_train_raw)\n",
    "y_train = normalize(y_train_raw)\n",
    "x_test = normalize(x_test_raw)\n",
    "y_test = normalize(y_test_raw)"
   ]
  },
  {
   "cell_type": "code",
   "execution_count": 10,
   "metadata": {},
   "outputs": [],
   "source": [
    "def initialize_parameters():\n",
    "    w = np.random.rand(1,1) * 0.1\n",
    "    b = np.zeros((1,1))\n",
    "    parameters = {'w':w, 'b':b}\n",
    "    return parameters"
   ]
  },
  {
   "cell_type": "code",
   "execution_count": 15,
   "metadata": {},
   "outputs": [],
   "source": [
    "def forward_propagation(x, parameters):\n",
    "    w, b = parameters['w'], parameters['b']\n",
    "    yhat = np.matmul(x, w) + b\n",
    "    return yhat"
   ]
  },
  {
   "cell_type": "code",
   "execution_count": 12,
   "metadata": {},
   "outputs": [],
   "source": [
    "parameters = initialize_parameters()"
   ]
  },
  {
   "cell_type": "code",
   "execution_count": 13,
   "metadata": {},
   "outputs": [],
   "source": [
    "yhat = forward_propagation(x_train, parameters)"
   ]
  },
  {
   "cell_type": "code",
   "execution_count": 14,
   "metadata": {},
   "outputs": [
    {
     "data": {
      "text/plain": [
       "(30, 1)"
      ]
     },
     "execution_count": 14,
     "metadata": {},
     "output_type": "execute_result"
    }
   ],
   "source": [
    "x_train.shape"
   ]
  },
  {
   "cell_type": "code",
   "execution_count": null,
   "metadata": {},
   "outputs": [],
   "source": []
  }
 ],
 "metadata": {
  "kernelspec": {
   "display_name": "project1env",
   "language": "python",
   "name": "python3"
  },
  "language_info": {
   "codemirror_mode": {
    "name": "ipython",
    "version": 3
   },
   "file_extension": ".py",
   "mimetype": "text/x-python",
   "name": "python",
   "nbconvert_exporter": "python",
   "pygments_lexer": "ipython3",
   "version": "3.12.3"
  }
 },
 "nbformat": 4,
 "nbformat_minor": 2
}
